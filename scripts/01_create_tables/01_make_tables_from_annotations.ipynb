{
 "cells": [
  {
   "cell_type": "markdown",
   "id": "b40cead4",
   "metadata": {},
   "source": [
    "# Library Import and Functions"
   ]
  },
  {
   "cell_type": "markdown",
   "id": "fa616a2c",
   "metadata": {},
   "source": [
    "This notebook is used to conduct analyses and create tables from the annotations"
   ]
  },
  {
   "cell_type": "code",
   "execution_count": 1,
   "id": "d8ae625f",
   "metadata": {},
   "outputs": [],
   "source": [
    "## Import Libraries\n",
    "import pandas as pd\n",
    "import numpy as np\n",
    "from matplotlib_venn import venn2, venn2_circles, venn2_unweighted\n",
    "from matplotlib_venn import venn3, venn3_circles, venn3_unweighted\n",
    "from matplotlib import pyplot as plt\n",
    "%matplotlib inline\n",
    "import seaborn as sns\n",
    "from wordcloud import WordCloud\n",
    "import re\n",
    "\n",
    "\n",
    "## Display all rows of pandas dataframes\n",
    "pd.set_option('display.max_rows', None)\n",
    "pd.set_option('display.max_colwidth', None)"
   ]
  },
  {
   "cell_type": "code",
   "execution_count": 2,
   "id": "dca47e2c",
   "metadata": {},
   "outputs": [],
   "source": [
    "'''\n",
    "name: extract_gene_id\n",
    "\n",
    "input: GTF attribute column\n",
    "\n",
    "output: gene_id for each entry\n",
    "\n",
    "purpose: Creating a gene_id columns from attributes column in GTF\n",
    "'''\n",
    "\n",
    "\n",
    "def extract_gene_id(attributes):\n",
    "    match = re.search('gene_id \"([^\"]+)', attributes)\n",
    "    return match.group(1) if match else None"
   ]
  },
  {
   "cell_type": "code",
   "execution_count": 3,
   "id": "22087bec",
   "metadata": {},
   "outputs": [],
   "source": [
    "'''\n",
    "name: extract_gene_biotype\n",
    "\n",
    "input: GTF attribute column\n",
    "\n",
    "output: gene_biotype for each entry\n",
    "\n",
    "purpose: Creating a gene_biotype columns from attributes column in GTF\n",
    "'''\n",
    "\n",
    "\n",
    "def extract_gene_biotype(attributes):\n",
    "    match = re.search('gene_biotype \"([^\"]+)', attributes)\n",
    "    return match.group(1) if match else None"
   ]
  },
  {
   "cell_type": "code",
   "execution_count": 4,
   "id": "47920e41",
   "metadata": {},
   "outputs": [],
   "source": [
    "'''\n",
    "name: extract_transcript_id\n",
    "\n",
    "input: GTF attribute column\n",
    "\n",
    "output: transcript_id for each entry\n",
    "\n",
    "purpose: Creating a transcript_id columns from attributes column in GTF\n",
    "'''\n",
    "\n",
    "\n",
    "def extract_transcript_id(attributes):\n",
    "    match = re.search('transcript_id \"([^\"]+)', attributes)\n",
    "    return match.group(1) if match else None"
   ]
  },
  {
   "cell_type": "code",
   "execution_count": 5,
   "id": "1d9057cb",
   "metadata": {},
   "outputs": [],
   "source": [
    "'''\n",
    "name: extract_transcript_biotype\n",
    "\n",
    "input: GTF attribute column\n",
    "\n",
    "output: transcript_biotype for each entry\n",
    "\n",
    "purpose: Creating a transcript_biotype columns from attributes column in GTF\n",
    "'''\n",
    "\n",
    "\n",
    "def extract_transcript_biotype(attributes):\n",
    "    match = re.search('transcript_biotype \"([^\"]+)', attributes)\n",
    "    return match.group(1) if match else None"
   ]
  },
  {
   "cell_type": "markdown",
   "id": "4eead133",
   "metadata": {},
   "source": [
    "# Quantify number of RNA isoforms annotated per year"
   ]
  },
  {
   "cell_type": "markdown",
   "id": "e215baae",
   "metadata": {},
   "source": [
    "### 2014 Dataset"
   ]
  },
  {
   "cell_type": "code",
   "execution_count": 6,
   "id": "f14a3136",
   "metadata": {},
   "outputs": [],
   "source": [
    "# Define the column names for the GTF file\n",
    "column_names = [\"seqname\", \"source\", \"feature\", \"start\", \"end\", \"score\", \"strand\", \"frame\", \"attributes\"]\n",
    "\n",
    "# Load the GTF file\n",
    "df2014 = pd.read_csv('../../references/Homo_sapiens.GRCh38.76.gtf',\n",
    "                     sep='\\t', comment='#', names=column_names, low_memory=False)\n",
    "df2014 = df2014.loc[df2014[\"feature\"] == \"transcript\"].copy()\n",
    "\n",
    "# Parse the \"attributes\" column to extract the important values\n",
    "df2014['gene_id'] = df2014['attributes'].apply(extract_gene_id)\n",
    "df2014['gene_biotype'] = df2014['attributes'].apply(extract_gene_biotype)\n",
    "df2014['transcript_id'] = df2014['attributes'].apply(extract_transcript_id)\n",
    "# 2014 doesn't have a `transcript biotype` attribute in the attributes column, it is instead in the 2nd column, which we labeled source\n",
    "df2014['transcript_biotype'] = df2014['source']"
   ]
  },
  {
   "cell_type": "markdown",
   "id": "b111b5aa",
   "metadata": {},
   "source": [
    "### 2015 Dataset"
   ]
  },
  {
   "cell_type": "code",
   "execution_count": 7,
   "id": "f3f8d353",
   "metadata": {},
   "outputs": [],
   "source": [
    "# Define the column names for the GTF file\n",
    "column_names = [\"seqname\", \"source\", \"feature\", \"start\", \"end\", \"score\", \"strand\", \"frame\", \"attributes\"]\n",
    "\n",
    "# Load the GTF file\n",
    "df2015 = pd.read_csv('../../references/Homo_sapiens.GRCh38.79.gtf',\n",
    "                     sep='\\t', comment='#', names=column_names, low_memory=False)\n",
    "\n",
    "df2015 = df2015.loc[df2015[\"feature\"] == \"transcript\"].copy()\n",
    "\n",
    "# Parse the \"attributes\" column to extract the important values\n",
    "df2015['gene_id'] = df2015['attributes'].apply(extract_gene_id)\n",
    "df2015['gene_biotype'] = df2015['attributes'].apply(extract_gene_biotype)\n",
    "df2015['transcript_id'] = df2015['attributes'].apply(extract_transcript_id)\n",
    "df2015['transcript_biotype'] = df2015['attributes'].apply(extract_transcript_biotype)"
   ]
  },
  {
   "cell_type": "markdown",
   "id": "43ddaad3",
   "metadata": {},
   "source": [
    "### 2016 Dataset"
   ]
  },
  {
   "cell_type": "code",
   "execution_count": 8,
   "id": "e6705892",
   "metadata": {},
   "outputs": [],
   "source": [
    "# Define the column names for the GTF file\n",
    "column_names = [\"seqname\", \"source\", \"feature\", \"start\", \"end\", \"score\", \"strand\", \"frame\", \"attributes\"]\n",
    "\n",
    "# Load the GTF file\n",
    "df2016 = pd.read_csv('../../references/Homo_sapiens.GRCh38.85.gtf',\n",
    "                     sep='\\t', comment='#', names=column_names, low_memory=False)\n",
    "\n",
    "df2016 = df2016.loc[df2016[\"feature\"] == \"transcript\"].copy()\n",
    "\n",
    "\n",
    "# Parse the \"attributes\" column to extract the important values\n",
    "df2016['gene_id'] = df2016['attributes'].apply(extract_gene_id)\n",
    "df2016['gene_biotype'] = df2016['attributes'].apply(extract_gene_biotype)\n",
    "df2016['transcript_id'] = df2016['attributes'].apply(extract_transcript_id)\n",
    "df2016['transcript_biotype'] = df2016['attributes'].apply(extract_transcript_biotype)"
   ]
  },
  {
   "cell_type": "markdown",
   "id": "0e854879",
   "metadata": {},
   "source": [
    "### 2017 Dataset"
   ]
  },
  {
   "cell_type": "code",
   "execution_count": 9,
   "id": "b5be970c",
   "metadata": {},
   "outputs": [],
   "source": [
    "# Define the column names for the GTF file\n",
    "column_names = [\"seqname\", \"source\", \"feature\", \"start\", \"end\", \"score\", \"strand\", \"frame\", \"attributes\"]\n",
    "\n",
    "# Load the GTF file\n",
    "df2017 = pd.read_csv('../../references/Homo_sapiens.GRCh38.88.gtf',\n",
    "                     sep='\\t', comment='#', names=column_names, low_memory=False)\n",
    "\n",
    "df2017 = df2017.loc[df2017[\"feature\"] == \"transcript\"].copy()\n",
    "\n",
    "\n",
    "# Parse the \"attributes\" column to extract the important values\n",
    "df2017['gene_id'] = df2017['attributes'].apply(extract_gene_id)\n",
    "df2017['gene_biotype'] = df2017['attributes'].apply(extract_gene_biotype)\n",
    "df2017['transcript_id'] = df2017['attributes'].apply(extract_transcript_id)\n",
    "df2017['transcript_biotype'] = df2017['attributes'].apply(extract_transcript_biotype)"
   ]
  },
  {
   "cell_type": "markdown",
   "id": "b4169a64",
   "metadata": {},
   "source": [
    "### 2018 Dataset"
   ]
  },
  {
   "cell_type": "code",
   "execution_count": 10,
   "id": "96acd160",
   "metadata": {},
   "outputs": [],
   "source": [
    "# Define the column names for the GTF file\n",
    "column_names = [\"seqname\", \"source\", \"feature\", \"start\", \"end\", \"score\", \"strand\", \"frame\", \"attributes\"]\n",
    "\n",
    "# Load the GTF file\n",
    "df2018 = pd.read_csv('../../references/Homo_sapiens.GRCh38.92.gtf', \n",
    "                     sep='\\t', comment='#', names=column_names, low_memory=False)\n",
    "\n",
    "df2018 = df2018.loc[df2018[\"feature\"] == \"transcript\"].copy()\n",
    "\n",
    "\n",
    "# Parse the \"attributes\" column to extract the important values\n",
    "df2018['gene_id'] = df2018['attributes'].apply(extract_gene_id)\n",
    "df2018['gene_biotype'] = df2018['attributes'].apply(extract_gene_biotype)\n",
    "df2018['transcript_id'] = df2018['attributes'].apply(extract_transcript_id)\n",
    "df2018['transcript_biotype'] = df2018['attributes'].apply(extract_transcript_biotype)"
   ]
  },
  {
   "cell_type": "markdown",
   "id": "acd2722a",
   "metadata": {},
   "source": [
    "### 2019 Dataset"
   ]
  },
  {
   "cell_type": "code",
   "execution_count": 11,
   "id": "bf940907",
   "metadata": {},
   "outputs": [],
   "source": [
    "# Define the column names for the GTF file\n",
    "column_names = [\"seqname\", \"source\", \"feature\", \"start\", \"end\", \"score\", \"strand\", \"frame\", \"attributes\"]\n",
    "\n",
    "# Load the GTF file\n",
    "df2019 = pd.read_csv('../../references/Homo_sapiens.GRCh38.96.gtf', \n",
    "                     sep='\\t', comment='#', names=column_names, low_memory=False)\n",
    "\n",
    "df2019 = df2019.loc[df2019[\"feature\"] == \"transcript\"].copy()\n",
    "\n",
    "\n",
    "# Parse the \"attributes\" column to extract the important values\n",
    "df2019['gene_id'] = df2019['attributes'].apply(extract_gene_id)\n",
    "df2019['gene_biotype'] = df2019['attributes'].apply(extract_gene_biotype)\n",
    "df2019['transcript_id'] = df2019['attributes'].apply(extract_transcript_id)\n",
    "df2019['transcript_biotype'] = df2019['attributes'].apply(extract_transcript_biotype)"
   ]
  },
  {
   "cell_type": "markdown",
   "id": "8a3207d6",
   "metadata": {},
   "source": [
    "### 2020 Dataset"
   ]
  },
  {
   "cell_type": "code",
   "execution_count": 12,
   "id": "20386138",
   "metadata": {},
   "outputs": [],
   "source": [
    "# Define the column names for the GTF file\n",
    "column_names = [\"seqname\", \"source\", \"feature\", \"start\", \"end\", \"score\", \"strand\", \"frame\", \"attributes\"]\n",
    "\n",
    "# Load the GTF file\n",
    "df2020 = pd.read_csv('../../references/Homo_sapiens.GRCh38.99.gtf', \n",
    "                     sep='\\t', comment='#', names=column_names, low_memory=False)\n",
    "\n",
    "df2020 = df2020.loc[df2020[\"feature\"] == \"transcript\"].copy()\n",
    "\n",
    "\n",
    "# Parse the \"attributes\" column to extract the important values\n",
    "df2020['gene_id'] = df2020['attributes'].apply(extract_gene_id)\n",
    "df2020['gene_biotype'] = df2020['attributes'].apply(extract_gene_biotype)\n",
    "df2020['transcript_id'] = df2020['attributes'].apply(extract_transcript_id)\n",
    "df2020['transcript_biotype'] = df2020['attributes'].apply(extract_transcript_biotype)"
   ]
  },
  {
   "cell_type": "markdown",
   "id": "6585ed93",
   "metadata": {},
   "source": [
    "### 2021 Dataset"
   ]
  },
  {
   "cell_type": "code",
   "execution_count": 13,
   "id": "9b7436a1",
   "metadata": {},
   "outputs": [],
   "source": [
    "# Define the column names for the GTF file\n",
    "column_names = [\"seqname\", \"source\", \"feature\", \"start\", \"end\", \"score\", \"strand\", \"frame\", \"attributes\"]\n",
    "\n",
    "# Load the GTF file\n",
    "df2021 = pd.read_csv('../../references/Homo_sapiens.GRCh38.103.gtf', \n",
    "                     sep='\\t', comment='#', names=column_names, low_memory=False)\n",
    "\n",
    "df2021 = df2021.loc[df2021[\"feature\"] == \"transcript\"].copy()\n",
    "\n",
    "\n",
    "# Parse the \"attributes\" column to extract the important values\n",
    "df2021['gene_id'] = df2021['attributes'].apply(extract_gene_id)\n",
    "df2021['gene_biotype'] = df2021['attributes'].apply(extract_gene_biotype)\n",
    "df2021['transcript_id'] = df2021['attributes'].apply(extract_transcript_id)\n",
    "df2021['transcript_biotype'] = df2021['attributes'].apply(extract_transcript_biotype)"
   ]
  },
  {
   "cell_type": "markdown",
   "id": "a998e41e",
   "metadata": {},
   "source": [
    "### 2022 Dataset"
   ]
  },
  {
   "cell_type": "code",
   "execution_count": 14,
   "id": "af958b4c",
   "metadata": {},
   "outputs": [],
   "source": [
    "# Define the column names for the GTF file\n",
    "column_names = [\"seqname\", \"source\", \"feature\", \"start\", \"end\", \"score\", \"strand\", \"frame\", \"attributes\"]\n",
    "\n",
    "# Load the GTF file\n",
    "df2022 = pd.read_csv('../../references/Homo_sapiens.GRCh38.106.gtf', \n",
    "                     sep='\\t', comment='#', names=column_names, low_memory=False)\n",
    "\n",
    "df2022 = df2022.loc[df2022[\"feature\"] == \"transcript\"].copy()\n",
    "\n",
    "\n",
    "# Parse the \"attributes\" column to extract the important values\n",
    "df2022['gene_id'] = df2022['attributes'].apply(extract_gene_id)\n",
    "df2022['gene_biotype'] = df2022['attributes'].apply(extract_gene_biotype)\n",
    "df2022['transcript_id'] = df2022['attributes'].apply(extract_transcript_id)\n",
    "df2022['transcript_biotype'] = df2022['attributes'].apply(extract_transcript_biotype)"
   ]
  },
  {
   "cell_type": "markdown",
   "id": "49d05c8d",
   "metadata": {},
   "source": [
    "### 2023 Dataset"
   ]
  },
  {
   "cell_type": "code",
   "execution_count": 15,
   "id": "d898ec6c",
   "metadata": {},
   "outputs": [],
   "source": [
    "# Define the column names for the GTF file\n",
    "column_names = [\"seqname\", \"source\", \"feature\", \"start\", \"end\", \"score\", \"strand\", \"frame\", \"attributes\"]\n",
    "\n",
    "# Load the GTF file\n",
    "df2023 = pd.read_csv('../../references/Homo_sapiens.GRCh38.109.gtf', \n",
    "                     sep='\\t', comment='#', names=column_names, low_memory=False)\n",
    "\n",
    "df2023 = df2023.loc[df2023[\"feature\"] == \"transcript\"].copy()\n",
    "\n",
    "\n",
    "# Parse the \"attributes\" column to extract the important values\n",
    "df2023['gene_id'] = df2023['attributes'].apply(extract_gene_id)\n",
    "df2023['gene_biotype'] = df2023['attributes'].apply(extract_gene_biotype)\n",
    "df2023['transcript_id'] = df2023['attributes'].apply(extract_transcript_id)\n",
    "df2023['transcript_biotype'] = df2023['attributes'].apply(extract_transcript_biotype)"
   ]
  },
  {
   "cell_type": "markdown",
   "id": "1c107ed3",
   "metadata": {},
   "source": [
    "#### Add years column to dataframes"
   ]
  },
  {
   "cell_type": "code",
   "execution_count": 16,
   "id": "e41df1b1",
   "metadata": {},
   "outputs": [],
   "source": [
    "# we only want to keep chromosomes that are not alternate contigs\n",
    "df2014 = df2014.loc[df2014[\"seqname\"].isin(df2016[\"seqname\"])].copy()\n",
    "df2015 = df2015.loc[df2015[\"seqname\"].isin(df2016[\"seqname\"])].copy()"
   ]
  },
  {
   "cell_type": "code",
   "execution_count": 17,
   "id": "997f0ecc",
   "metadata": {},
   "outputs": [],
   "source": [
    "df2014['Year'] = 2014\n",
    "df2015['Year'] = 2015\n",
    "df2016['Year'] = 2016\n",
    "df2017['Year'] = 2017\n",
    "df2018['Year'] = 2018\n",
    "df2019['Year'] = 2019\n",
    "df2020['Year'] = 2020\n",
    "df2021['Year'] = 2021\n",
    "df2022['Year'] = 2022\n",
    "df2023['Year'] = 2023"
   ]
  },
  {
   "cell_type": "markdown",
   "id": "7cd73425",
   "metadata": {},
   "source": [
    "#### Dataframe of geneID's and year of each year"
   ]
  },
  {
   "cell_type": "code",
   "execution_count": 18,
   "id": "b3429573",
   "metadata": {},
   "outputs": [],
   "source": [
    "genes_df2014 = pd.merge(df2014['gene_id'], df2014['Year'],left_index=True, right_index=True)\n",
    "genes_df2015 = pd.merge(df2015['gene_id'], df2015['Year'],left_index=True, right_index=True)\n",
    "genes_df2016 = pd.merge(df2016['gene_id'], df2016['Year'],left_index=True, right_index=True)\n",
    "genes_df2017 = pd.merge(df2017['gene_id'], df2017['Year'],left_index=True, right_index=True)\n",
    "genes_df2018 = pd.merge(df2018['gene_id'], df2018['Year'],left_index=True, right_index=True)\n",
    "genes_df2019 = pd.merge(df2019['gene_id'], df2019['Year'],left_index=True, right_index=True)\n",
    "genes_df2020 = pd.merge(df2020['gene_id'], df2020['Year'],left_index=True, right_index=True)\n",
    "genes_df2021 = pd.merge(df2021['gene_id'], df2021['Year'],left_index=True, right_index=True)\n",
    "genes_df2022 = pd.merge(df2022['gene_id'], df2022['Year'],left_index=True, right_index=True)\n",
    "genes_df2023 = pd.merge(df2023['gene_id'], df2023['Year'],left_index=True, right_index=True)"
   ]
  },
  {
   "cell_type": "markdown",
   "id": "258c1f1a",
   "metadata": {},
   "source": [
    "#### Dataframe of transcriptID's and year of each year"
   ]
  },
  {
   "cell_type": "code",
   "execution_count": 19,
   "id": "c410330b",
   "metadata": {},
   "outputs": [],
   "source": [
    "trans_df2014 = pd.merge(df2014['transcript_id'], df2014['Year'],left_index=True, right_index=True)\n",
    "trans_df2015 = pd.merge(df2015['transcript_id'], df2015['Year'],left_index=True, right_index=True)\n",
    "trans_df2016 = pd.merge(df2016['transcript_id'], df2016['Year'],left_index=True, right_index=True)\n",
    "trans_df2017 = pd.merge(df2017['transcript_id'], df2017['Year'],left_index=True, right_index=True)\n",
    "trans_df2018 = pd.merge(df2018['transcript_id'], df2018['Year'],left_index=True, right_index=True)\n",
    "trans_df2019 = pd.merge(df2019['transcript_id'], df2019['Year'],left_index=True, right_index=True)\n",
    "trans_df2020 = pd.merge(df2020['transcript_id'], df2020['Year'],left_index=True, right_index=True)\n",
    "trans_df2021 = pd.merge(df2021['transcript_id'], df2021['Year'],left_index=True, right_index=True)\n",
    "trans_df2022 = pd.merge(df2022['transcript_id'], df2022['Year'],left_index=True, right_index=True)\n",
    "trans_df2023 = pd.merge(df2023['transcript_id'], df2023['Year'],left_index=True, right_index=True)"
   ]
  },
  {
   "cell_type": "markdown",
   "id": "b4e7b301",
   "metadata": {},
   "source": [
    "### Number of unique ids"
   ]
  },
  {
   "cell_type": "code",
   "execution_count": 20,
   "id": "41050928",
   "metadata": {},
   "outputs": [],
   "source": [
    "# number of unique gene ids\n",
    "gunique_count2014 = genes_df2014['gene_id'].nunique()\n",
    "gunique_count2015 = genes_df2015['gene_id'].nunique()\n",
    "gunique_count2016 = genes_df2016['gene_id'].nunique()\n",
    "gunique_count2017 = genes_df2017['gene_id'].nunique()\n",
    "gunique_count2018 = genes_df2018['gene_id'].nunique()\n",
    "gunique_count2019 = genes_df2019['gene_id'].nunique()\n",
    "gunique_count2020 = genes_df2020['gene_id'].nunique()\n",
    "gunique_count2021 = genes_df2021['gene_id'].nunique()\n",
    "gunique_count2022 = genes_df2022['gene_id'].nunique()\n",
    "gunique_count2023 = genes_df2023['gene_id'].nunique()"
   ]
  },
  {
   "cell_type": "code",
   "execution_count": 21,
   "id": "945394f6",
   "metadata": {},
   "outputs": [],
   "source": [
    "# number of unique protein-coding gene ids\n",
    "gunique_count2014_pc = df2014.loc[df2014['gene_biotype'] == 'protein_coding'].copy()['gene_id'].nunique()\n",
    "gunique_count2015_pc = df2015.loc[df2015['gene_biotype'] == 'protein_coding'].copy()['gene_id'].nunique()\n",
    "gunique_count2016_pc = df2016.loc[df2016['gene_biotype'] == 'protein_coding'].copy()['gene_id'].nunique()\n",
    "gunique_count2017_pc = df2017.loc[df2017['gene_biotype'] == 'protein_coding'].copy()['gene_id'].nunique()\n",
    "gunique_count2018_pc = df2018.loc[df2018['gene_biotype'] == 'protein_coding'].copy()['gene_id'].nunique()\n",
    "gunique_count2019_pc = df2019.loc[df2019['gene_biotype'] == 'protein_coding'].copy()['gene_id'].nunique()\n",
    "gunique_count2020_pc = df2020.loc[df2020['gene_biotype'] == 'protein_coding'].copy()['gene_id'].nunique()\n",
    "gunique_count2021_pc = df2021.loc[df2021['gene_biotype'] == 'protein_coding'].copy()['gene_id'].nunique()\n",
    "gunique_count2022_pc = df2022.loc[df2022['gene_biotype'] == 'protein_coding'].copy()['gene_id'].nunique()\n",
    "gunique_count2023_pc = df2023.loc[df2023['gene_biotype'] == 'protein_coding'].copy()['gene_id'].nunique()"
   ]
  },
  {
   "cell_type": "code",
   "execution_count": 22,
   "id": "4f26742c",
   "metadata": {},
   "outputs": [],
   "source": [
    "# number of unique transcript ids\n",
    "unique_count2014 = trans_df2014['transcript_id'].nunique()\n",
    "unique_count2015 = trans_df2015['transcript_id'].nunique()\n",
    "unique_count2016 = trans_df2016['transcript_id'].nunique()\n",
    "unique_count2017 = trans_df2017['transcript_id'].nunique()\n",
    "unique_count2018 = trans_df2018['transcript_id'].nunique()\n",
    "unique_count2019 = trans_df2019['transcript_id'].nunique()\n",
    "unique_count2020 = trans_df2020['transcript_id'].nunique()\n",
    "unique_count2021 = trans_df2021['transcript_id'].nunique()\n",
    "unique_count2022 = trans_df2022['transcript_id'].nunique()\n",
    "unique_count2023 = trans_df2023['transcript_id'].nunique()"
   ]
  },
  {
   "cell_type": "code",
   "execution_count": 23,
   "id": "92798b9f",
   "metadata": {},
   "outputs": [],
   "source": [
    "# number of unique protein-coding transcript ids\n",
    "unique_count2014_pc = df2014.loc[df2014['transcript_biotype'] == 'protein_coding'].copy()['transcript_id'].nunique()\n",
    "unique_count2015_pc = df2015.loc[df2015['transcript_biotype'] == 'protein_coding'].copy()['transcript_id'].nunique()\n",
    "unique_count2016_pc = df2016.loc[df2016['transcript_biotype'] == 'protein_coding'].copy()['transcript_id'].nunique()\n",
    "unique_count2017_pc = df2017.loc[df2017['transcript_biotype'] == 'protein_coding'].copy()['transcript_id'].nunique()\n",
    "unique_count2018_pc = df2018.loc[df2018['transcript_biotype'] == 'protein_coding'].copy()['transcript_id'].nunique()\n",
    "unique_count2019_pc = df2019.loc[df2019['transcript_biotype'] == 'protein_coding'].copy()['transcript_id'].nunique()\n",
    "unique_count2020_pc = df2020.loc[df2020['transcript_biotype'] == 'protein_coding'].copy()['transcript_id'].nunique()\n",
    "unique_count2021_pc = df2021.loc[df2021['transcript_biotype'] == 'protein_coding'].copy()['transcript_id'].nunique()\n",
    "unique_count2022_pc = df2022.loc[df2022['transcript_biotype'] == 'protein_coding'].copy()['transcript_id'].nunique()\n",
    "unique_count2023_pc = df2023.loc[df2023['transcript_biotype'] == 'protein_coding'].copy()['transcript_id'].nunique()"
   ]
  },
  {
   "cell_type": "code",
   "execution_count": 24,
   "id": "3f2a0418",
   "metadata": {},
   "outputs": [],
   "source": [
    "# Lists of number of unique ids over the annotations\n",
    "genes = [gunique_count2014, gunique_count2015, gunique_count2016, gunique_count2017, gunique_count2018,\n",
    "           gunique_count2019, gunique_count2020, gunique_count2021, gunique_count2022, gunique_count2023]\n",
    "genes_pc = [gunique_count2014_pc, gunique_count2015_pc, gunique_count2016_pc, gunique_count2017_pc, gunique_count2018_pc,\n",
    "           gunique_count2019_pc, gunique_count2020_pc, gunique_count2021_pc, gunique_count2022_pc, gunique_count2023_pc]\n",
    "\n",
    "transcripts = [unique_count2014, unique_count2015, unique_count2016, unique_count2017, unique_count2018,\n",
    "           unique_count2019, unique_count2020, unique_count2021, unique_count2022, unique_count2023]\n",
    "transcripts_pc = [unique_count2014_pc, unique_count2015_pc, unique_count2016_pc, unique_count2017_pc, unique_count2018_pc,\n",
    "           unique_count2019_pc, unique_count2020_pc, unique_count2021_pc, unique_count2022_pc, unique_count2023_pc]\n",
    "\n",
    "# Create a Pandas Series from the list\n",
    "years = [2014, 2015, 2016, 2017, 2018, 2019, 2020, 2021, 2022, 2023]\n"
   ]
  },
  {
   "cell_type": "markdown",
   "id": "5559c849",
   "metadata": {},
   "source": [
    "### Create tables of number of genes/transcripts per year"
   ]
  },
  {
   "cell_type": "code",
   "execution_count": 25,
   "id": "8ec1a095",
   "metadata": {},
   "outputs": [],
   "source": [
    "## Output number of genes to tables directory\n",
    "\n",
    "number_of_genes_per_year = pd.DataFrame()\n",
    "\n",
    "number_of_genes_per_year[\"Year\"] = years\n",
    "number_of_genes_per_year[\"n_genes\"] = genes\n",
    "\n",
    "number_of_genes_per_year.to_csv(\"../../tables/annotation_comparison/number_of_genes_per_year.tsv\", sep='\\t', index=False)"
   ]
  },
  {
   "cell_type": "code",
   "execution_count": 26,
   "id": "012f5d1d",
   "metadata": {},
   "outputs": [],
   "source": [
    "## Output number of protein coding genes to tables directory\n",
    "\n",
    "number_of_pc_genes_per_year = pd.DataFrame()\n",
    "\n",
    "number_of_pc_genes_per_year[\"Year\"] = years\n",
    "number_of_pc_genes_per_year[\"n_pc_genes\"] = genes_pc\n",
    "\n",
    "number_of_pc_genes_per_year.to_csv(\"../../tables/annotation_comparison/number_of_protein_coding_genes_per_year.tsv\", sep='\\t', index=False)"
   ]
  },
  {
   "cell_type": "code",
   "execution_count": 27,
   "id": "42f397f7",
   "metadata": {},
   "outputs": [],
   "source": [
    "## Output number of transcripts to tables directory\n",
    "\n",
    "number_of_transcripts_per_year = pd.DataFrame()\n",
    "\n",
    "number_of_transcripts_per_year[\"Year\"] = years\n",
    "number_of_transcripts_per_year[\"Number of transcripts\"] = transcripts\n",
    "\n",
    "number_of_transcripts_per_year.to_csv(\"../../tables/annotation_comparison/number_of_transcripts_per_year.tsv\", sep='\\t', index=False)"
   ]
  },
  {
   "cell_type": "code",
   "execution_count": 28,
   "id": "66cacd79",
   "metadata": {},
   "outputs": [],
   "source": [
    "## Output number of protein coding transcripts to tables directory\n",
    "\n",
    "number_of_transcripts_per_year = pd.DataFrame()\n",
    "\n",
    "number_of_transcripts_per_year[\"Year\"] = years\n",
    "number_of_transcripts_per_year[\"Number of transcripts\"] = transcripts\n",
    "\n",
    "number_of_transcripts_per_year.to_csv(\"../../tables/annotation_comparison/number_of_protein_coding_transcripts_per_year.tsv\", sep='\\t', index=False)"
   ]
  },
  {
   "cell_type": "markdown",
   "id": "1f91b112",
   "metadata": {},
   "source": [
    "### Breakdown of Transcript Biotype of all RNA Isoforms in Ensembl v109"
   ]
  },
  {
   "cell_type": "code",
   "execution_count": 29,
   "id": "61e21b8f",
   "metadata": {},
   "outputs": [],
   "source": [
    "# get the biotype of each gene/transcript for v109\n",
    "df2023_tx_biotype = df2023.copy()[['gene_id', 'gene_biotype', 'transcript_id', 'transcript_biotype']]\n",
    "df2023_tx_biotype.to_csv(\"../../tables/annotation_comparison/tx_and_gene_biotype_for_2023.tsv\", sep='\\t', index=False)"
   ]
  },
  {
   "cell_type": "markdown",
   "id": "d832b9f0",
   "metadata": {},
   "source": [
    "## Venn Comparisons of gene/isoform ids across 2019, 2021, and 2023"
   ]
  },
  {
   "cell_type": "code",
   "execution_count": 30,
   "id": "eb2568fc",
   "metadata": {},
   "outputs": [],
   "source": [
    "# calculate 3 way comparison genes 2019, 2021, 2023\n",
    "\n",
    "gdf2019_set = set(df2019['gene_id'].copy())\n",
    "gdf2021_set = set(df2021['gene_id'].copy())\n",
    "gdf2023_set = set(df2023['gene_id'].copy())\n",
    "\n",
    "# Get the full intersect of 'transcript_id' from all DataFrames\n",
    "full_intersect = gdf2019_set & gdf2021_set & gdf2023_set\n",
    "\n",
    "# Get the intersect of 'transcript_id' between two DataFrames\n",
    "g_2019_and_2021 = gdf2019_set & gdf2021_set\n",
    "g_2021_and_2023 = gdf2021_set & gdf2023_set\n",
    "g_2023_and_2019 = gdf2023_set & gdf2019_set\n",
    "\n",
    "# Calculate the lengths for each set operation\n",
    "overlap_lengths = {\n",
    "    '2019,2021,2023': len(full_intersect),\n",
    "    '2019,2021': len(g_2019_and_2021 - full_intersect),\n",
    "    '2021,2023': len(g_2021_and_2023 - full_intersect),\n",
    "    '2023,2019': len(g_2023_and_2019 - full_intersect),\n",
    "    '2019': len(gdf2019_set - (g_2019_and_2021 | g_2023_and_2019)),\n",
    "    '2021': len(gdf2021_set - (g_2019_and_2021 | g_2021_and_2023)),\n",
    "    '2023': len(gdf2023_set - (g_2021_and_2023 | g_2023_and_2019))\n",
    "}\n",
    "\n",
    "# Create a DataFrame from the overlap_lengths dictionary\n",
    "gene_overlap_venn_values = pd.DataFrame.from_dict(overlap_lengths, orient='index', columns=['value'])\n",
    "gene_overlap_venn_values.index.name = 'type'\n",
    "gene_overlap_venn_values.reset_index(inplace=True)\n",
    "\n",
    "gene_overlap_venn_values.to_csv(\"../../tables/annotation_comparison/gene_overlap_venn_values_2019_2021_2023.tsv\", sep='\\t', index=False)"
   ]
  },
  {
   "cell_type": "code",
   "execution_count": 31,
   "id": "1a38cda9",
   "metadata": {},
   "outputs": [],
   "source": [
    "# calculate 3 way comparison protein-coding genes 2019, 2021, 2023\n",
    "pcgdf2019_set = set(df2019.loc[df2019['gene_biotype'] == 'protein_coding'].copy()['gene_id'].copy())\n",
    "pcgdf2021_set = set(df2021.loc[df2021['gene_biotype'] == 'protein_coding'].copy()['gene_id'].copy())\n",
    "pcgdf2023_set = set(df2023.loc[df2023['gene_biotype'] == 'protein_coding'].copy()['gene_id'].copy())\n",
    "\n",
    "# Get the full intersect of 'transcript_id' from all DataFrames\n",
    "full_intersect_gpc = pcgdf2019_set & pcgdf2021_set & pcgdf2023_set\n",
    "\n",
    "# Get the intersect of 'transcript_id' between two DataFrames\n",
    "pcg_2019_and_2021 = pcgdf2019_set & pcgdf2021_set\n",
    "pcg_2021_and_2023 = pcgdf2021_set & pcgdf2023_set\n",
    "pcg_2023_and_2019 = pcgdf2023_set & pcgdf2019_set\n",
    "\n",
    "# Calculate the lengths for each set operation\n",
    "overlap_lengths = {\n",
    "    '2019,2021,2023': len(full_intersect_gpc),\n",
    "    '2019,2021': len(pcg_2019_and_2021 - full_intersect_gpc),\n",
    "    '2021,2023': len(pcg_2021_and_2023 - full_intersect_gpc),\n",
    "    '2023,2019': len(pcg_2023_and_2019 - full_intersect_gpc),\n",
    "    '2019': len(pcgdf2019_set - (pcg_2019_and_2021 | pcg_2023_and_2019)),\n",
    "    '2021': len(pcgdf2021_set - (pcg_2019_and_2021 | pcg_2021_and_2023)),\n",
    "    '2023': len(pcgdf2023_set - (pcg_2021_and_2023 | pcg_2023_and_2019))\n",
    "}\n",
    "\n",
    "# Create a DataFrame from the overlap_lengths dictionary\n",
    "pc_gene_overlap_venn_values = pd.DataFrame.from_dict(overlap_lengths, orient='index', columns=['value'])\n",
    "pc_gene_overlap_venn_values.index.name = 'type'\n",
    "pc_gene_overlap_venn_values.reset_index(inplace=True)\n",
    "\n",
    "pc_gene_overlap_venn_values.to_csv(\"../../tables/annotation_comparison/pc_gene_overlap_venn_values_2019_2021_2023.tsv\", sep='\\t', index=False)"
   ]
  },
  {
   "cell_type": "code",
   "execution_count": 32,
   "id": "69dee9cf",
   "metadata": {},
   "outputs": [
    {
     "name": "stdout",
     "output_type": "stream",
     "text": [
      "{'ENSG00000204397'}\n"
     ]
    }
   ],
   "source": [
    "# print out the gene that is labeled as protein coding in 2019 and 2023 but NOT 2021\n",
    "print(pcg_2023_and_2019 - full_intersect_gpc)"
   ]
  },
  {
   "cell_type": "code",
   "execution_count": 33,
   "id": "c76fcafa",
   "metadata": {},
   "outputs": [],
   "source": [
    "# calculate 3 way transcript id comparison for 2019, 2021, 2023\n",
    "\n",
    "df2019_set = set(df2019['transcript_id'].copy())\n",
    "df2021_set = set(df2021['transcript_id'].copy())\n",
    "df2023_set = set(df2023['transcript_id'].copy())\n",
    "\n",
    "# Get the full intersect of 'transcript_id' from all DataFrames\n",
    "full_intersect = df2019_set & df2021_set & df2023_set\n",
    "\n",
    "# Get the intersect of 'transcript_id' between two DataFrames\n",
    "i_2019_and_2021 = df2019_set & df2021_set\n",
    "i_2021_and_2023 = df2021_set & df2023_set\n",
    "i_2023_and_2019 = df2023_set & df2019_set\n",
    "\n",
    "# Calculate the lengths for each set operation\n",
    "overlap_lengths = {\n",
    "    '2019,2021,2023': len(full_intersect),\n",
    "    '2019,2021': len(i_2019_and_2021 - full_intersect),\n",
    "    '2021,2023': len(i_2021_and_2023 - full_intersect),\n",
    "    '2023,2019': len(i_2023_and_2019 - full_intersect),\n",
    "    '2019': len(df2019_set - (i_2019_and_2021 | i_2023_and_2019)),\n",
    "    '2021': len(df2021_set - (i_2019_and_2021 | i_2021_and_2023)),\n",
    "    '2023': len(df2023_set - (i_2021_and_2023 | i_2023_and_2019))\n",
    "}\n",
    "\n",
    "# Create a DataFrame from the overlap_lengths dictionary\n",
    "transcript_overlap_venn_values = pd.DataFrame.from_dict(overlap_lengths, orient='index', columns=['value'])\n",
    "transcript_overlap_venn_values.index.name = 'type'\n",
    "transcript_overlap_venn_values.reset_index(inplace=True)\n",
    "\n",
    "transcript_overlap_venn_values.to_csv(\"../../tables/annotation_comparison/venn_overlap_transcript_2019_2021_2023.tsv\", sep='\\t', index=False)"
   ]
  },
  {
   "cell_type": "code",
   "execution_count": 34,
   "id": "2594afea",
   "metadata": {},
   "outputs": [],
   "source": [
    "# 3 way comparison protein coding transcript ids 2019, 2021, 2023\n",
    "df2019_set_pc = set(df2019.loc[df2019['transcript_biotype'] == 'protein_coding'].copy()['transcript_id'].copy())\n",
    "df2021_set_pc = set(df2021.loc[df2021['transcript_biotype'] == 'protein_coding'].copy()['transcript_id'].copy())\n",
    "df2023_set_pc = set(df2023.loc[df2023['transcript_biotype'] == 'protein_coding'].copy()['transcript_id'].copy())\n",
    "\n",
    "# Get the full intersect of 'transcript_id' from all DataFrames\n",
    "full_intersect_pc = df2019_set_pc & df2021_set_pc & df2023_set_pc\n",
    "\n",
    "# Get the intersect of 'transcript_id' between two DataFrames\n",
    "i_2019_and_2021_pc = df2019_set_pc & df2021_set_pc\n",
    "i_2021_and_2023_pc = df2021_set_pc & df2023_set_pc\n",
    "i_2023_and_2019_pc = df2023_set_pc & df2019_set_pc\n",
    "\n",
    "# Calculate the lengths for each set operation\n",
    "overlap_lengths_pc = {\n",
    "    '2019,2021,2023': len(full_intersect_pc),\n",
    "    '2019,2021': len(i_2019_and_2021_pc - full_intersect_pc),\n",
    "    '2021,2023': len(i_2021_and_2023_pc - full_intersect_pc),\n",
    "    '2023,2019': len(i_2023_and_2019_pc - full_intersect_pc),\n",
    "    '2019': len(df2019_set_pc - (i_2019_and_2021_pc | i_2023_and_2019_pc)),\n",
    "    '2021': len(df2021_set_pc - (i_2019_and_2021_pc | i_2021_and_2023_pc)),\n",
    "    '2023': len(df2023_set_pc - (i_2021_and_2023_pc | i_2023_and_2019_pc))\n",
    "}\n",
    "\n",
    "# Create a DataFrame from the overlap_lengths dictionary\n",
    "transcript_overlap_venn_values_pc = pd.DataFrame.from_dict(overlap_lengths_pc, orient='index', columns=['value'])\n",
    "transcript_overlap_venn_values_pc.index.name = 'type'\n",
    "transcript_overlap_venn_values_pc.reset_index(inplace=True)\n",
    "\n",
    "transcript_overlap_venn_values_pc.to_csv(\"../../tables/annotation_comparison/venn_overlap_transcript_2019_2021_2023_protein_coding.tsv\", sep='\\t', index=False)"
   ]
  },
  {
   "cell_type": "code",
   "execution_count": 35,
   "id": "6cfeef25",
   "metadata": {},
   "outputs": [
    {
     "name": "stdout",
     "output_type": "stream",
     "text": [
      "{'ENST00000343811', 'ENST00000400440', 'ENST00000421643', 'ENST00000528513', 'ENST00000522719'}\n"
     ]
    }
   ],
   "source": [
    "# print out the transcripts that are labeled as protein coding in 2019 and 2023 but NOT 2021\n",
    "print(i_2023_and_2019_pc - full_intersect_pc)"
   ]
  },
  {
   "cell_type": "markdown",
   "id": "1df1eedd",
   "metadata": {},
   "source": [
    "## Number of transcripts per gene in 2023 annotation"
   ]
  },
  {
   "cell_type": "code",
   "execution_count": 36,
   "id": "d726371b",
   "metadata": {},
   "outputs": [],
   "source": [
    "# all genes\n",
    "n_tx_per_gene_2023 = df2023.copy().groupby(['gene_id']).size().reset_index(name=\"n_tx\")\n",
    "n_tx_per_gene_2023 = n_tx_per_gene_2023.sort_values(by=['n_tx'])\n",
    "n_tx_per_gene_2023.to_csv(\"../../tables/annotation_comparison/n_tx_per_gene_2023.tsv\", sep='\\t', index=False)\n",
    "\n",
    "# non protein-coding genes\n",
    "n_tx_per_gene_2023_npc = df2023.loc[df2023['gene_biotype'] != 'protein_coding'].copy().groupby(['gene_id']).size().reset_index(name=\"n_tx\")\n",
    "n_tx_per_gene_2023_npc = n_tx_per_gene_2023_npc.sort_values(by=['n_tx'])\n",
    "n_tx_per_gene_2023_npc.to_csv(\"../../tables/annotation_comparison/n_tx_per_npc_gene_2023.tsv\", sep='\\t', index=False)\n",
    "\n",
    "# protein-coding genes\n",
    "n_tx_per_gene_2023_pc = df2023.loc[df2023['gene_biotype'] == 'protein_coding'].copy().groupby(['gene_id']).size().reset_index(name=\"n_tx\")\n",
    "n_tx_per_gene_2023_pc = n_tx_per_gene_2023_pc.sort_values(by=['n_tx'])\n",
    "n_tx_per_gene_2023_pc.to_csv(\"../../tables/annotation_comparison/n_tx_per_pc_gene_2023.tsv\", sep='\\t', index=False)"
   ]
  },
  {
   "cell_type": "code",
   "execution_count": 37,
   "id": "2966530c",
   "metadata": {},
   "outputs": [],
   "source": [
    "n_tx_per_gene_2023_over_60 = n_tx_per_gene_2023.loc[n_tx_per_gene_2023['n_tx'] >= 60].copy()\n",
    "n_tx_per_gene_2023_over_60.to_csv(\"../../tables/annotation_comparison/n_tx_per_gene_2023_over_60.tsv\", sep='\\t', index=False)"
   ]
  },
  {
   "cell_type": "code",
   "execution_count": 38,
   "id": "4c14e2a3",
   "metadata": {},
   "outputs": [
    {
     "name": "stdout",
     "output_type": "stream",
     "text": [
      "Number of genes with a single annotated isoform\n",
      "38690\n",
      "Number of genes with >= 10 annotated isoforms\n",
      "7255\n",
      "Number of genes with >= 60 annotated isoforms\n",
      "155\n"
     ]
    }
   ],
   "source": [
    "print('Number of genes with a single annotated isoform')\n",
    "print(len(n_tx_per_gene_2023.loc[n_tx_per_gene_2023['n_tx']==1].copy()['gene_id']))\n",
    "print('Number of genes with >= 10 annotated isoforms')\n",
    "print(len(n_tx_per_gene_2023.loc[n_tx_per_gene_2023['n_tx']>=10].copy()['gene_id']))\n",
    "print('Number of genes with >= 60 annotated isoforms')\n",
    "print(len(n_tx_per_gene_2023.loc[n_tx_per_gene_2023['n_tx']>=60].copy()['gene_id']))"
   ]
  },
  {
   "cell_type": "code",
   "execution_count": 39,
   "id": "50a7041b",
   "metadata": {
    "scrolled": true
   },
   "outputs": [
    {
     "name": "stdout",
     "output_type": "stream",
     "text": [
      "Number of pc genes with a single annotated isoform\n",
      "2922\n",
      "Number of pc genes with >= 10 annotated isoforms\n",
      "6162\n",
      "Number of pc genes with >= 60 annotated isoforms\n",
      "94\n"
     ]
    }
   ],
   "source": [
    "print('Number of pc genes with a single annotated isoform')\n",
    "print(len(n_tx_per_gene_2023_pc.loc[n_tx_per_gene_2023_pc['n_tx']==1].copy()['gene_id']))\n",
    "print('Number of pc genes with >= 10 annotated isoforms')\n",
    "print(len(n_tx_per_gene_2023_pc.loc[n_tx_per_gene_2023_pc['n_tx']>=10].copy()['gene_id']))\n",
    "print('Number of pc genes with >= 60 annotated isoforms')\n",
    "print(len(n_tx_per_gene_2023_pc.loc[n_tx_per_gene_2023_pc['n_tx']>=60].copy()['gene_id']))"
   ]
  },
  {
   "cell_type": "markdown",
   "id": "14f3372d",
   "metadata": {},
   "source": [
    "### Mean and Median number of RNA isoforms per gene by year"
   ]
  },
  {
   "cell_type": "code",
   "execution_count": 40,
   "id": "f7383e49",
   "metadata": {
    "scrolled": true
   },
   "outputs": [
    {
     "data": {
      "text/html": [
       "<div>\n",
       "<style scoped>\n",
       "    .dataframe tbody tr th:only-of-type {\n",
       "        vertical-align: middle;\n",
       "    }\n",
       "\n",
       "    .dataframe tbody tr th {\n",
       "        vertical-align: top;\n",
       "    }\n",
       "\n",
       "    .dataframe thead th {\n",
       "        text-align: right;\n",
       "    }\n",
       "</style>\n",
       "<table border=\"1\" class=\"dataframe\">\n",
       "  <thead>\n",
       "    <tr style=\"text-align: right;\">\n",
       "      <th></th>\n",
       "      <th>Year</th>\n",
       "      <th>median_n_tx_per_year</th>\n",
       "      <th>mean_n_tx_per_year</th>\n",
       "    </tr>\n",
       "  </thead>\n",
       "  <tbody>\n",
       "    <tr>\n",
       "      <th>0</th>\n",
       "      <td>2014</td>\n",
       "      <td>1.0</td>\n",
       "      <td>3.306531</td>\n",
       "    </tr>\n",
       "    <tr>\n",
       "      <th>1</th>\n",
       "      <td>2015</td>\n",
       "      <td>1.0</td>\n",
       "      <td>3.276455</td>\n",
       "    </tr>\n",
       "    <tr>\n",
       "      <th>2</th>\n",
       "      <td>2016</td>\n",
       "      <td>1.0</td>\n",
       "      <td>3.410828</td>\n",
       "    </tr>\n",
       "    <tr>\n",
       "      <th>3</th>\n",
       "      <td>2017</td>\n",
       "      <td>1.0</td>\n",
       "      <td>3.421325</td>\n",
       "    </tr>\n",
       "    <tr>\n",
       "      <th>4</th>\n",
       "      <td>2018</td>\n",
       "      <td>1.0</td>\n",
       "      <td>3.489032</td>\n",
       "    </tr>\n",
       "    <tr>\n",
       "      <th>5</th>\n",
       "      <td>2019</td>\n",
       "      <td>1.0</td>\n",
       "      <td>3.541319</td>\n",
       "    </tr>\n",
       "    <tr>\n",
       "      <th>6</th>\n",
       "      <td>2020</td>\n",
       "      <td>1.0</td>\n",
       "      <td>3.754664</td>\n",
       "    </tr>\n",
       "    <tr>\n",
       "      <th>7</th>\n",
       "      <td>2021</td>\n",
       "      <td>1.0</td>\n",
       "      <td>3.863663</td>\n",
       "    </tr>\n",
       "    <tr>\n",
       "      <th>8</th>\n",
       "      <td>2022</td>\n",
       "      <td>1.0</td>\n",
       "      <td>4.004923</td>\n",
       "    </tr>\n",
       "    <tr>\n",
       "      <th>9</th>\n",
       "      <td>2023</td>\n",
       "      <td>1.0</td>\n",
       "      <td>4.031223</td>\n",
       "    </tr>\n",
       "  </tbody>\n",
       "</table>\n",
       "</div>"
      ],
      "text/plain": [
       "   Year  median_n_tx_per_year  mean_n_tx_per_year\n",
       "0  2014                   1.0            3.306531\n",
       "1  2015                   1.0            3.276455\n",
       "2  2016                   1.0            3.410828\n",
       "3  2017                   1.0            3.421325\n",
       "4  2018                   1.0            3.489032\n",
       "5  2019                   1.0            3.541319\n",
       "6  2020                   1.0            3.754664\n",
       "7  2021                   1.0            3.863663\n",
       "8  2022                   1.0            4.004923\n",
       "9  2023                   1.0            4.031223"
      ]
     },
     "execution_count": 40,
     "metadata": {},
     "output_type": "execute_result"
    }
   ],
   "source": [
    "all_years =pd.concat([df2014, df2015, df2016, df2017, df2018, df2019, df2020, df2021, df2022, df2023], ignore_index=True)\n",
    "grouped = all_years.groupby(['gene_id', 'Year']).size().reset_index(name='n_tx')\n",
    "grouped['median_n_tx_per_year'] = grouped.groupby('Year')['n_tx'].transform('median')\n",
    "grouped['mean_n_tx_per_year'] = grouped.groupby('Year')['n_tx'].transform('mean')\n",
    "grouped = grouped[['Year', 'median_n_tx_per_year', 'mean_n_tx_per_year']].drop_duplicates()\n",
    "grouped"
   ]
  },
  {
   "cell_type": "markdown",
   "id": "b0c8f3e1",
   "metadata": {},
   "source": [
    "### Mean and Median number of RNA isoforms per protein-coding gene by year"
   ]
  },
  {
   "cell_type": "code",
   "execution_count": 41,
   "id": "3ba8ac42",
   "metadata": {},
   "outputs": [
    {
     "data": {
      "text/html": [
       "<div>\n",
       "<style scoped>\n",
       "    .dataframe tbody tr th:only-of-type {\n",
       "        vertical-align: middle;\n",
       "    }\n",
       "\n",
       "    .dataframe tbody tr th {\n",
       "        vertical-align: top;\n",
       "    }\n",
       "\n",
       "    .dataframe thead th {\n",
       "        text-align: right;\n",
       "    }\n",
       "</style>\n",
       "<table border=\"1\" class=\"dataframe\">\n",
       "  <thead>\n",
       "    <tr style=\"text-align: right;\">\n",
       "      <th></th>\n",
       "      <th>Year</th>\n",
       "      <th>median_n_tx_per_year</th>\n",
       "      <th>mean_n_tx_per_year</th>\n",
       "    </tr>\n",
       "  </thead>\n",
       "  <tbody>\n",
       "    <tr>\n",
       "      <th>0</th>\n",
       "      <td>2014</td>\n",
       "      <td>6.0</td>\n",
       "      <td>7.175713</td>\n",
       "    </tr>\n",
       "    <tr>\n",
       "      <th>1</th>\n",
       "      <td>2015</td>\n",
       "      <td>6.0</td>\n",
       "      <td>7.240555</td>\n",
       "    </tr>\n",
       "    <tr>\n",
       "      <th>2</th>\n",
       "      <td>2016</td>\n",
       "      <td>6.0</td>\n",
       "      <td>7.283453</td>\n",
       "    </tr>\n",
       "    <tr>\n",
       "      <th>3</th>\n",
       "      <td>2017</td>\n",
       "      <td>6.0</td>\n",
       "      <td>7.375983</td>\n",
       "    </tr>\n",
       "    <tr>\n",
       "      <th>4</th>\n",
       "      <td>2018</td>\n",
       "      <td>6.0</td>\n",
       "      <td>7.509040</td>\n",
       "    </tr>\n",
       "    <tr>\n",
       "      <th>5</th>\n",
       "      <td>2019</td>\n",
       "      <td>6.0</td>\n",
       "      <td>7.611242</td>\n",
       "    </tr>\n",
       "    <tr>\n",
       "      <th>6</th>\n",
       "      <td>2020</td>\n",
       "      <td>6.0</td>\n",
       "      <td>7.660206</td>\n",
       "    </tr>\n",
       "    <tr>\n",
       "      <th>7</th>\n",
       "      <td>2021</td>\n",
       "      <td>6.0</td>\n",
       "      <td>7.986124</td>\n",
       "    </tr>\n",
       "    <tr>\n",
       "      <th>8</th>\n",
       "      <td>2022</td>\n",
       "      <td>6.0</td>\n",
       "      <td>8.308092</td>\n",
       "    </tr>\n",
       "    <tr>\n",
       "      <th>9</th>\n",
       "      <td>2023</td>\n",
       "      <td>6.0</td>\n",
       "      <td>8.509278</td>\n",
       "    </tr>\n",
       "  </tbody>\n",
       "</table>\n",
       "</div>"
      ],
      "text/plain": [
       "   Year  median_n_tx_per_year  mean_n_tx_per_year\n",
       "0  2014                   6.0            7.175713\n",
       "1  2015                   6.0            7.240555\n",
       "2  2016                   6.0            7.283453\n",
       "3  2017                   6.0            7.375983\n",
       "4  2018                   6.0            7.509040\n",
       "5  2019                   6.0            7.611242\n",
       "6  2020                   6.0            7.660206\n",
       "7  2021                   6.0            7.986124\n",
       "8  2022                   6.0            8.308092\n",
       "9  2023                   6.0            8.509278"
      ]
     },
     "execution_count": 41,
     "metadata": {},
     "output_type": "execute_result"
    }
   ],
   "source": [
    "all_years =pd.concat([df2014, df2015, df2016, df2017, df2018, df2019, df2020, df2021, df2022, df2023], ignore_index=True)\n",
    "pc_all_years = all_years[all_years['gene_biotype'] == 'protein_coding']\n",
    "pc_grouped = pc_all_years.groupby(['gene_id', 'Year']).size().reset_index(name='n_tx')\n",
    "pc_grouped['median_n_tx_per_year'] = pc_grouped.groupby('Year')['n_tx'].transform('median')\n",
    "pc_grouped['mean_n_tx_per_year'] = pc_grouped.groupby('Year')['n_tx'].transform('mean')\n",
    "pc_grouped = pc_grouped[['Year', 'median_n_tx_per_year', 'mean_n_tx_per_year']].drop_duplicates()\n",
    "pc_grouped"
   ]
  },
  {
   "cell_type": "code",
   "execution_count": null,
   "id": "f7322e76",
   "metadata": {},
   "outputs": [],
   "source": []
  },
  {
   "cell_type": "code",
   "execution_count": null,
   "id": "074bed20",
   "metadata": {},
   "outputs": [],
   "source": []
  }
 ],
 "metadata": {
  "kernelspec": {
   "display_name": "Python 3 (ipykernel)",
   "language": "python",
   "name": "python3"
  },
  "language_info": {
   "codemirror_mode": {
    "name": "ipython",
    "version": 3
   },
   "file_extension": ".py",
   "mimetype": "text/x-python",
   "name": "python",
   "nbconvert_exporter": "python",
   "pygments_lexer": "ipython3",
   "version": "3.11.3"
  }
 },
 "nbformat": 4,
 "nbformat_minor": 5
}
